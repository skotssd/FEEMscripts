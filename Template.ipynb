{
 "cells": [
  {
   "cell_type": "markdown",
   "id": "eea27fc5-c4e4-4158-9a00-02696c161d00",
   "metadata": {
    "tags": []
   },
   "source": [
    "# name ID\n",
    "from openfluor database\n",
    "\n",
    "details\n",
    "\n",
    "EX range  to \n",
    "EM range  to "
   ]
  },
  {
   "cell_type": "code",
   "execution_count": null,
   "id": "c5249c6b-3114-48b8-b377-3e431d86ffc7",
   "metadata": {},
   "outputs": [],
   "source": [
    "% model paste from openfluor website\n",
    "\n",
    "ID='ID_';\n",
    "\n",
    "exmodel=[...\n",
    "];\n",
    "\n",
    "emmodel=[...\n",
    "];"
   ]
  },
  {
   "cell_type": "code",
   "execution_count": null,
   "id": "651ff9d7-045b-4f6a-bf42-9896f33e8ca0",
   "metadata": {},
   "outputs": [],
   "source": [
    "Cex=exmodel(:,1); Cem=emmodel(:,1); % pull ex and em from the data\n",
    "C=size(exmodel,2)-1;% the number of components\n",
    "EXmodel=exmodel(:,2:C+1); EMmodel=emmodel(:,2:C+1);\n",
    "\n",
    "txt=['save ',ID,'.mat C Cex Cem']; eval(txt)\n",
    "\n",
    "% make a loop to make a matrix for each component\n",
    "for i=1:1:C\n",
    "    istr=num2str(i); \n",
    "    txt=['Cex',istr,'=EXmodel(:,i);']; eval(txt)\n",
    "    txt=['save ',ID,'.mat Cex',istr,' -append']; eval(txt)\n",
    "    txt=['Cem',istr,'=EMmodel(:,i);']; eval(txt)\n",
    "    txt=['save ',ID,'.mat Cem',istr,' -append']; eval(txt)\n",
    "    FEEM=EXmodel(:,i)*EMmodel(:,i)';\n",
    "    subplot(3,3,i); contour(Cem,Cex,FEEM); hold on\n",
    "    title(istr)\n",
    "end"
   ]
  }
 ],
 "metadata": {
  "kernelspec": {
   "display_name": "Octave (xoctave)",
   "language": "Octave",
   "name": "xoctave"
  },
  "language_info": {
   "codemirror_mode": "octave",
   "file_extension": ".m",
   "mimetype": "text/x-octave",
   "name": "Octave",
   "nbconvert_exporter": "",
   "pygments_lexer": "octave",
   "version": "7.3.0"
  }
 },
 "nbformat": 4,
 "nbformat_minor": 5
}
