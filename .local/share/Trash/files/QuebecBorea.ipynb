{
 "cells": [
  {
   "cell_type": "markdown",
   "id": "acd6fbcb-8c0b-431e-a6c7-3d9ed6d09a43",
   "metadata": {},
   "source": [
    "# QuebecBoreal ID34\n",
    "\n",
    "from openfluor database\n",
    "\n",
    "**Creator** Jean-Francois Lapierre\n",
    "**Uploaded**\n",
    "**Username** Glennie Farrell III\n",
    "**Email**\n",
    "**DOI** 10.5194/bg-11-5969-2014\n",
    "**Unit** RU\n",
    "**Toolbox** DOMFluor\n",
    "**Model date** 1970-01\n",
    "**Fluorometer** Shimadzu RF5301\n",
    "**Number of Samples** 1349\n",
    "**Constraints** non-negativity\n",
    "**Sources** lakes, rivers, streams, wetlands, photodegradation essays\n",
    "**Ecozones** north american boreal\n",
    "\n",
    "EX range 275 to 450\n",
    "EM range 260 to 600"
   ]
  },
  {
   "cell_type": "code",
   "execution_count": null,
   "id": "b455b5b7-5d4e-4902-b4de-323ccf5e9e44",
   "metadata": {},
   "outputs": [],
   "source": [
    "% model paste from openfluor website\n",
    "\n",
    "ID='ID34';\n",
    "\n",
    "exmodel=[...\n",
    "];\n",
    "\n",
    "emmodel=[...\n",
    "];"
   ]
  },
  {
   "cell_type": "code",
   "execution_count": null,
   "id": "c352c948-a0d1-48c5-a04f-43bc0133ad72",
   "metadata": {},
   "outputs": [],
   "source": []
  }
 ],
 "metadata": {
  "kernelspec": {
   "display_name": "Octave (xoctave)",
   "language": "Octave",
   "name": "xoctave"
  },
  "language_info": {
   "name": ""
  }
 },
 "nbformat": 4,
 "nbformat_minor": 5
}
