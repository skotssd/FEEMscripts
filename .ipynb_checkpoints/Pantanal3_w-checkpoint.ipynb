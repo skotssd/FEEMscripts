{
 "cells": [
  {
   "cell_type": "markdown",
   "id": "1bf7c3dc-37bb-408e-b69a-0ae67c51b1a5",
   "metadata": {},
   "source": [
    "# Pantanal3_ww"
   ]
  },
  {
   "cell_type": "code",
   "execution_count": null,
   "id": "ead655fe-1a67-425c-b239-04aefc29b87c",
   "metadata": {},
   "outputs": [],
   "source": []
  }
 ],
 "metadata": {
  "kernelspec": {
   "display_name": "Octave (xoctave)",
   "language": "Octave",
   "name": "xoctave"
  },
  "language_info": {
   "codemirror_mode": "octave",
   "file_extension": ".m",
   "mimetype": "text/x-octave",
   "name": "Octave",
   "nbconvert_exporter": "",
   "pygments_lexer": "octave",
   "version": "7.3.0"
  }
 },
 "nbformat": 4,
 "nbformat_minor": 5
}
