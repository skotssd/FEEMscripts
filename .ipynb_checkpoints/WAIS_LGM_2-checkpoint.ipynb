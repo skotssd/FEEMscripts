{
 "cells": [
  {
   "cell_type": "markdown",
   "id": "27a350ff-db0c-46d0-972c-740ef5ad2088",
   "metadata": {},
   "source": [
    "# WAIS_LGM_2 ID172\n",
    "\n",
    "from openfluor database\n",
    "\n",
    "**Creator** Juliana D'Andrilli\n",
    "**Uploaded** 2018-03-31 15:09:14\n",
    "**Username** Juliana D'Andrilli\n",
    "**Email** jdandrilli@lumcon.edu\n",
    "**DOI\n",
    "10.5194/cp-13-533-2017\n",
    "**Unit\n",
    "R.U.\n",
    "**Toolbox\n",
    "drEEM v 0.1.0\n",
    "**Model date\n",
    "2017-05\n",
    "**Fluorometer\n",
    "Fluoromax-4\n",
    "**Number of Samples\n",
    "69\n",
    "**Constraints\n",
    "nonnegativity\n",
    "**Sources\n",
    "Antarctic ice cores, atmospheric deposition\n",
    "**Ecozones\n",
    "Southern Hemisphere continental, marine, and atmospheric\n",
    "\n",
    "EX range  to \n",
    "EM range  to "
   ]
  },
  {
   "cell_type": "code",
   "execution_count": 1,
   "id": "b4731b07-f333-4140-a193-69f30c982efe",
   "metadata": {},
   "outputs": [],
   "source": [
    "% model paste from openfluor website\n",
    "\n",
    "ID='ID172';\n",
    "\n",
    "exmodel=[...\n",
    "];\n",
    "\n",
    "emmodel=[...\n",
    "];"
   ]
  },
  {
   "cell_type": "code",
   "execution_count": null,
   "id": "44428b08-7c75-4191-97ab-d8d2b8c77f8d",
   "metadata": {},
   "outputs": [],
   "source": [
    "Cex=exmodel(:,1); Cem=emmodel(:,1); % pull ex and em from the data\n",
    "C=size(exmodel,2)-1;% the number of components\n",
    "EXmodel=exmodel(:,2:C+1); EMmodel=emmodel(:,2:C+1);\n",
    "\n",
    "txt=['save ',ID,'.mat C Cex Cem']; eval(txt)\n",
    "\n",
    "% make a loop to make a matrix for each component\n",
    "for i=1:1:C\n",
    "    istr=num2str(i); \n",
    "    txt=['Cex',istr,'=EXmodel(:,i);']; eval(txt)\n",
    "    txt=['save ',ID,'.mat Cex',istr,' -append']; eval(txt)\n",
    "    txt=['Cem',istr,'=EMmodel(:,i);']; eval(txt)\n",
    "    txt=['save ',ID,'.mat Cem',istr,' -append']; eval(txt)\n",
    "    FEEM=EXmodel(:,i)*EMmodel(:,i)';\n",
    "    subplot(3,3,i); contour(Cem,Cex,FEEM); hold on\n",
    "    title(istr)\n",
    "end"
   ]
  }
 ],
 "metadata": {
  "kernelspec": {
   "display_name": "Octave (xoctave)",
   "language": "Octave",
   "name": "xoctave"
  },
  "language_info": {
   "codemirror_mode": "octave",
   "file_extension": ".m",
   "mimetype": "text/x-octave",
   "name": "Octave",
   "nbconvert_exporter": "",
   "pygments_lexer": "octave",
   "version": "7.3.0"
  }
 },
 "nbformat": 4,
 "nbformat_minor": 5
}
