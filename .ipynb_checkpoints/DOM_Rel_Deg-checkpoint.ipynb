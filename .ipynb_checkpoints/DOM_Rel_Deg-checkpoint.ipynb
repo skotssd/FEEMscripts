{
 "cells": [
  {
   "cell_type": "markdown",
   "id": "7fbb4c0f-f81c-44fa-b856-1acb2a7c228d",
   "metadata": {},
   "source": [
    "# DOM_Rel_Deg ID6173\n",
    "\n",
    "from openfluor database\n",
    "\n",
    "details\n",
    "\n",
    "EX range _ to _\n",
    "EM range _ to _\n"
   ]
  }
 ],
 "metadata": {
  "kernelspec": {
   "display_name": "Octave (xoctave)",
   "language": "Octave",
   "name": "xoctave"
  },
  "language_info": {
   "codemirror_mode": "octave",
   "file_extension": ".m",
   "mimetype": "text/x-octave",
   "name": "Octave",
   "nbconvert_exporter": "",
   "pygments_lexer": "octave",
   "version": "7.3.0"
  }
 },
 "nbformat": 4,
 "nbformat_minor": 5
}
