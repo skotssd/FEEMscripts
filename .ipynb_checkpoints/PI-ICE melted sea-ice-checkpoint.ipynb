{
 "cells": [
  {
   "cell_type": "markdown",
   "id": "00a71f57-e3e1-462c-924b-873032bc1c5a",
   "metadata": {},
   "source": [
    "# PI-ICE melted sea-ice ID\n",
    "\n",
    "from openfluor database\n",
    "\n",
    "details\n",
    "\n",
    "EX range _ to _\n",
    "EM range _ to _"
   ]
  },
  {
   "cell_type": "code",
   "execution_count": 1,
   "id": "dcc4725a-af58-4819-b17c-55032b1c8eae",
   "metadata": {},
   "outputs": [
    {
     "ename": "Execution exception",
     "evalue": "'exmodel' undefined near line 1, column 5",
     "output_type": "error",
     "traceback": [
      "Execution exception: 'exmodel' undefined near line 1, column 5",
      ""
     ]
    },
    {
     "ename": "Execution exception",
     "evalue": "'exmodel' undefined near line 1, column 8",
     "output_type": "error",
     "traceback": [
      "Execution exception: 'exmodel' undefined near line 1, column 8",
      ""
     ]
    },
    {
     "ename": "Execution exception",
     "evalue": "'C' undefined near line 1, column 21",
     "output_type": "error",
     "traceback": [
      "Execution exception: 'C' undefined near line 1, column 21",
      ""
     ]
    },
    {
     "ename": "Execution exception",
     "evalue": "'ID' undefined near line 1, column 14",
     "output_type": "error",
     "traceback": [
      "Execution exception: 'ID' undefined near line 1, column 14",
      ""
     ]
    },
    {
     "ename": "Execution exception",
     "evalue": "'C' undefined near line 2, column 11",
     "output_type": "error",
     "traceback": [
      "Execution exception: 'C' undefined near line 2, column 11",
      ""
     ]
    }
   ],
   "source": [
    "% model paste from openfluor website\n",
    "\n",
    "ID='ID_';\n",
    "\n",
    "exmodel=[...\n",
    "];\n",
    "\n",
    "emmodel=[...\n",
    "];"
   ]
  },
  {
   "cell_type": "code",
   "execution_count": null,
   "id": "af85699f-6e42-4c32-bc74-4dc6b4c29514",
   "metadata": {},
   "outputs": [],
   "source": [
    "Cex=exmodel(:,1); Cem=emmodel(:,1); % pull ex and em from the data\n",
    "C=size(exmodel,2)-1;% the number of components\n",
    "EXmodel=exmodel(:,2:C+1); EMmodel=emmodel(:,2:C+1);\n",
    "\n",
    "txt=['save ',ID,'.mat C Cex Cem']; eval(txt)\n",
    "\n",
    "% make a loop to make a matrix for each component\n",
    "for i=1:1:C\n",
    "    istr=num2str(i); \n",
    "    txt=['Cex',istr,'=EXmodel(:,i);']; eval(txt)\n",
    "    txt=['save ',ID,'.mat Cex',istr,' -append']; eval(txt)\n",
    "    txt=['Cem',istr,'=EMmodel(:,i);']; eval(txt)\n",
    "    txt=['save ',ID,'.mat Cem',istr,' -append']; eval(txt)\n",
    "    FEEM=EXmodel(:,i)*EMmodel(:,i)';\n",
    "    subplot(3,3,i); contour(Cem,Cex,FEEM); hold on\n",
    "    title(istr)\n",
    "end"
   ]
  }
 ],
 "metadata": {
  "kernelspec": {
   "display_name": "Octave (xoctave)",
   "language": "Octave",
   "name": "xoctave"
  },
  "language_info": {
   "codemirror_mode": "octave",
   "file_extension": ".m",
   "mimetype": "text/x-octave",
   "name": "Octave",
   "nbconvert_exporter": "",
   "pygments_lexer": "octave",
   "version": "7.3.0"
  }
 },
 "nbformat": 4,
 "nbformat_minor": 5
}
