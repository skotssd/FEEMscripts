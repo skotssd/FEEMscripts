{
 "cells": [
  {
   "cell_type": "markdown",
   "id": "dfb80bc8-8f67-49ad-8a06-245ba5957e97",
   "metadata": {},
   "source": [
    "# Lake_Ice ID\n",
    "\n",
    "from openfluor database\n",
    "\n",
    "details\n",
    "\n",
    "EX range _ to _\n",
    "EM range _ to _"
   ]
  },
  {
   "cell_type": "code",
   "execution_count": 1,
   "id": "790fef3c-34ea-4a24-83ae-e39a97fa497a",
   "metadata": {},
   "outputs": [
    {
     "ename": "Execution exception",
     "evalue": "'exmodel' undefined near line 1, column 5",
     "output_type": "error",
     "traceback": [
      "Execution exception: 'exmodel' undefined near line 1, column 5",
      ""
     ]
    },
    {
     "ename": "Execution exception",
     "evalue": "'exmodel' undefined near line 1, column 8",
     "output_type": "error",
     "traceback": [
      "Execution exception: 'exmodel' undefined near line 1, column 8",
      ""
     ]
    },
    {
     "ename": "Execution exception",
     "evalue": "'C' undefined near line 1, column 21",
     "output_type": "error",
     "traceback": [
      "Execution exception: 'C' undefined near line 1, column 21",
      ""
     ]
    },
    {
     "ename": "Execution exception",
     "evalue": "'ID' undefined near line 1, column 14",
     "output_type": "error",
     "traceback": [
      "Execution exception: 'ID' undefined near line 1, column 14",
      ""
     ]
    },
    {
     "ename": "Execution exception",
     "evalue": "'C' undefined near line 2, column 11",
     "output_type": "error",
     "traceback": [
      "Execution exception: 'C' undefined near line 2, column 11",
      ""
     ]
    }
   ],
   "source": [
    "% model paste from openfluor website\n",
    "\n",
    "ID='ID_';\n",
    "\n",
    "exmodel=[...\n",
    "];\n",
    "\n",
    "emmodel=[...\n",
    "];"
   ]
  },
  {
   "cell_type": "code",
   "execution_count": null,
   "id": "cd5df814-7849-4f44-80bd-65bf61fa613e",
   "metadata": {},
   "outputs": [],
   "source": [
    "Cex=exmodel(:,1); Cem=emmodel(:,1); % pull ex and em from the data\n",
    "C=size(exmodel,2)-1;% the number of components\n",
    "EXmodel=exmodel(:,2:C+1); EMmodel=emmodel(:,2:C+1);\n",
    "\n",
    "txt=['save ',ID,'.mat C Cex Cem']; eval(txt)\n",
    "\n",
    "% make a loop to make a matrix for each component\n",
    "for i=1:1:C\n",
    "    istr=num2str(i); \n",
    "    txt=['Cex',istr,'=EXmodel(:,i);']; eval(txt)\n",
    "    txt=['save ',ID,'.mat Cex',istr,' -append']; eval(txt)\n",
    "    txt=['Cem',istr,'=EMmodel(:,i);']; eval(txt)\n",
    "    txt=['save ',ID,'.mat Cem',istr,' -append']; eval(txt)\n",
    "    FEEM=EXmodel(:,i)*EMmodel(:,i)';\n",
    "    subplot(3,3,i); contour(Cem,Cex,FEEM); hold on\n",
    "    title(istr)\n",
    "end"
   ]
  }
 ],
 "metadata": {
  "kernelspec": {
   "display_name": "Octave (xoctave)",
   "language": "Octave",
   "name": "xoctave"
  },
  "language_info": {
   "codemirror_mode": "octave",
   "file_extension": ".m",
   "mimetype": "text/x-octave",
   "name": "Octave",
   "nbconvert_exporter": "",
   "pygments_lexer": "octave",
   "version": "7.3.0"
  }
 },
 "nbformat": 4,
 "nbformat_minor": 5
}
