{
 "cells": [
  {
   "cell_type": "markdown",
   "id": "2dd1f2dd-2666-4197-8e5a-f50fd9505b96",
   "metadata": {},
   "source": [
    "# FDOM_Danshuei_River ID2452\n",
    "\n",
    "from openfluor database\n",
    "\n",
    "**Creator\n",
    "Hualong Hong\n",
    "**Uploaded\n",
    "2020-03-12 18:39:36\n",
    "**Username\n",
    "Hualong\n",
    "**Email\n",
    "honghlaries@126.com\n",
    "**DOI\n",
    "10.1016/j.envpol.2020.115996\n",
    "**Unit\n",
    "RU\n",
    "Toolbox\n",
    "DomFluor\n",
    "Model date\n",
    "2017-01\n",
    "Fluorometer\n",
    "Varian Cary Eclipse\n",
    "Number of Samples\n",
    "47\n",
    "Constraints\n",
    "non-negativity\n",
    "Sources\n",
    "mangrove, river, estuary, ocean - coastal and shelf seas\n",
    "Ecozones\n",
    "Formosa Strait\n",
    "\n",
    "EX range _ to _\n",
    "EM range _ to _"
   ]
  },
  {
   "cell_type": "code",
   "execution_count": 1,
   "id": "24cb55d8-f07a-4524-ac58-fc2dc32069e9",
   "metadata": {},
   "outputs": [
    {
     "ename": "Execution exception",
     "evalue": "'exmodel' undefined near line 1, column 5",
     "output_type": "error",
     "traceback": [
      "Execution exception: 'exmodel' undefined near line 1, column 5",
      ""
     ]
    },
    {
     "ename": "Execution exception",
     "evalue": "'exmodel' undefined near line 1, column 8",
     "output_type": "error",
     "traceback": [
      "Execution exception: 'exmodel' undefined near line 1, column 8",
      ""
     ]
    },
    {
     "ename": "Execution exception",
     "evalue": "'C' undefined near line 1, column 21",
     "output_type": "error",
     "traceback": [
      "Execution exception: 'C' undefined near line 1, column 21",
      ""
     ]
    },
    {
     "ename": "Execution exception",
     "evalue": "'ID' undefined near line 1, column 14",
     "output_type": "error",
     "traceback": [
      "Execution exception: 'ID' undefined near line 1, column 14",
      ""
     ]
    },
    {
     "ename": "Execution exception",
     "evalue": "'C' undefined near line 2, column 11",
     "output_type": "error",
     "traceback": [
      "Execution exception: 'C' undefined near line 2, column 11",
      ""
     ]
    }
   ],
   "source": [
    "% model paste from openfluor website\n",
    "\n",
    "ID='ID2452';\n",
    "\n",
    "exmodel=[...\n",
    "];\n",
    "\n",
    "emmodel=[...\n",
    "];"
   ]
  },
  {
   "cell_type": "code",
   "execution_count": null,
   "id": "685c7cf7-37e4-47eb-870e-b9791e029b82",
   "metadata": {},
   "outputs": [],
   "source": [
    "Cex=exmodel(:,1); Cem=emmodel(:,1); % pull ex and em from the data\n",
    "C=size(exmodel,2)-1;% the number of components\n",
    "EXmodel=exmodel(:,2:C+1); EMmodel=emmodel(:,2:C+1);\n",
    "\n",
    "txt=['save ',ID,'.mat C Cex Cem']; eval(txt)\n",
    "\n",
    "% make a loop to make a matrix for each component\n",
    "for i=1:1:C\n",
    "    istr=num2str(i); \n",
    "    txt=['Cex',istr,'=EXmodel(:,i);']; eval(txt)\n",
    "    txt=['save ',ID,'.mat Cex',istr,' -append']; eval(txt)\n",
    "    txt=['Cem',istr,'=EMmodel(:,i);']; eval(txt)\n",
    "    txt=['save ',ID,'.mat Cem',istr,' -append']; eval(txt)\n",
    "    FEEM=EXmodel(:,i)*EMmodel(:,i)';\n",
    "    subplot(3,3,i); contour(Cem,Cex,FEEM); hold on\n",
    "    title(istr)\n",
    "end"
   ]
  }
 ],
 "metadata": {
  "kernelspec": {
   "display_name": "Octave (xoctave)",
   "language": "Octave",
   "name": "xoctave"
  },
  "language_info": {
   "codemirror_mode": "octave",
   "file_extension": ".m",
   "mimetype": "text/x-octave",
   "name": "Octave",
   "nbconvert_exporter": "",
   "pygments_lexer": "octave",
   "version": "7.3.0"
  }
 },
 "nbformat": 4,
 "nbformat_minor": 5
}
