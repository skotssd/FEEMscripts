{
 "cells": [
  {
   "cell_type": "markdown",
   "id": "2e6fbb61-a3a4-4a13-873c-bff8745ab99c",
   "metadata": {},
   "source": [
    "# Congo River ID199\n",
    "\n",
    "from openfluor database\n",
    "\n",
    "**Creator**Thibault Lambert\n",
    "**Uploaded\n",
    "2018-04-10 13:14:36\n",
    "**Username\n",
    "Thibault Lambert\n",
    "**Email\n",
    "thibault.lambert@unil.ch\n",
    "**DOI\n",
    "10.5194/bg-13-5405-2016\n",
    "**Unit\n",
    "R.U.\n",
    "**Toolbox\n",
    "drEEM v 0.1.0\n",
    "**Model date\n",
    "2016-01\n",
    "**Fluorometer\n",
    "Perkin Elmer LS45\n",
    "**Number of Samples\n",
    "302\n",
    "**Constraints\n",
    "non negativity\n",
    "**Sources\n",
    "Rivers in the Congo Basin\n",
    "**Ecozones\n",
    "Tropics (Central Africa)\n",
    "\n",
    "EX range  to \n",
    "EM range  to "
   ]
  },
  {
   "cell_type": "code",
   "execution_count": 1,
   "id": "19b1b7ed-f725-4885-b956-04dc40c7a950",
   "metadata": {},
   "outputs": [],
   "source": [
    "% model paste from openfluor website\n",
    "\n",
    "ID='ID199';\n",
    "\n",
    "exmodel=[...\n",
    "];\n",
    "\n",
    "emmodel=[...\n",
    "];"
   ]
  },
  {
   "cell_type": "code",
   "execution_count": null,
   "id": "db854287-ad1d-4e67-8d2a-2664430d6894",
   "metadata": {},
   "outputs": [],
   "source": [
    "Cex=exmodel(:,1); Cem=emmodel(:,1); % pull ex and em from the data\n",
    "C=size(exmodel,2)-1;% the number of components\n",
    "EXmodel=exmodel(:,2:C+1); EMmodel=emmodel(:,2:C+1);\n",
    "\n",
    "txt=['save ',ID,'.mat C Cex Cem']; eval(txt)\n",
    "\n",
    "% make a loop to make a matrix for each component\n",
    "for i=1:1:C\n",
    "    istr=num2str(i); \n",
    "    txt=['Cex',istr,'=EXmodel(:,i);']; eval(txt)\n",
    "    txt=['save ',ID,'.mat Cex',istr,' -append']; eval(txt)\n",
    "    txt=['Cem',istr,'=EMmodel(:,i);']; eval(txt)\n",
    "    txt=['save ',ID,'.mat Cem',istr,' -append']; eval(txt)\n",
    "    FEEM=EXmodel(:,i)*EMmodel(:,i)';\n",
    "    subplot(3,3,i); contour(Cem,Cex,FEEM); hold on\n",
    "    title(istr)\n",
    "end"
   ]
  }
 ],
 "metadata": {
  "kernelspec": {
   "display_name": "Octave (xoctave)",
   "language": "Octave",
   "name": "xoctave"
  },
  "language_info": {
   "codemirror_mode": "octave",
   "file_extension": ".m",
   "mimetype": "text/x-octave",
   "name": "Octave",
   "nbconvert_exporter": "",
   "pygments_lexer": "octave",
   "version": "7.3.0"
  }
 },
 "nbformat": 4,
 "nbformat_minor": 5
}
