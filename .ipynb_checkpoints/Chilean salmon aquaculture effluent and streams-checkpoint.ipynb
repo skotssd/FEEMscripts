{
 "cells": [
  {
   "cell_type": "markdown",
   "id": "c8f353a3-d5cf-42e6-b450-6bf37c60ff48",
   "metadata": {},
   "source": [
    "# Chilean salmon aquaculture effluent and streams ID6455\n",
    "\n",
    "from openfluor database\n",
    "\n",
    "details\n",
    "\n",
    "EX range _ to _\n",
    "EM range _ to _"
   ]
  },
  {
   "cell_type": "code",
   "execution_count": null,
   "id": "a49da71e-4cf6-437b-83d0-86e12aa3fec5",
   "metadata": {},
   "outputs": [],
   "source": []
  }
 ],
 "metadata": {
  "kernelspec": {
   "display_name": "Octave (xoctave)",
   "language": "Octave",
   "name": "xoctave"
  },
  "language_info": {
   "codemirror_mode": "octave",
   "file_extension": ".m",
   "mimetype": "text/x-octave",
   "name": "Octave",
   "nbconvert_exporter": "",
   "pygments_lexer": "octave",
   "version": "7.3.0"
  }
 },
 "nbformat": 4,
 "nbformat_minor": 5
}
