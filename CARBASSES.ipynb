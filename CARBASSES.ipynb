{
 "cells": [
  {
   "cell_type": "markdown",
   "id": "4d9a6f8f-8cd0-44ab-b311-533b610ad61b",
   "metadata": {},
   "source": [
    "# CARBASSES"
   ]
  }
 ],
 "metadata": {
  "kernelspec": {
   "display_name": "Octave (xoctave)",
   "language": "Octave",
   "name": "xoctave"
  },
  "language_info": {
   "codemirror_mode": "octave",
   "file_extension": ".m",
   "mimetype": "text/x-octave",
   "name": "Octave",
   "nbconvert_exporter": "",
   "pygments_lexer": "octave",
   "version": "7.3.0"
  }
 },
 "nbformat": 4,
 "nbformat_minor": 5
}
